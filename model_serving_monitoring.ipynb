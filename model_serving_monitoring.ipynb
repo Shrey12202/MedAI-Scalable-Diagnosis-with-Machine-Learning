{
 "cells": [
  {
   "cell_type": "code",
   "execution_count": 11,
   "id": "f5548029",
   "metadata": {},
   "outputs": [],
   "source": [
    "#Just to reset prometheus_client registry\n",
    "\n",
    "from prometheus_client import REGISTRY\n",
    "\n",
    "# Unregister all previously registered metrics\n",
    "for collector in list(REGISTRY._names_to_collectors.values()):\n",
    "    try:\n",
    "        REGISTRY.unregister(collector)\n",
    "    except KeyError:\n",
    "        pass\n"
   ]
  },
  {
   "cell_type": "code",
   "execution_count": null,
   "id": "5b563937",
   "metadata": {},
   "outputs": [],
   "source": [
    "import os\n",
    "import torch\n",
    "import torch.nn as nn\n",
    "import torch.optim as optim\n",
    "from torch.utils.data import DataLoader\n",
    "from torchvision import transforms\n",
    "from sklearn.metrics import roc_auc_score\n",
    "\n",
    "import pandas as pd\n",
    "from PIL import Image\n",
    "from torchvision import models\n",
    "from torch.utils.data import Dataset\n",
    "import mlflow\n",
    "import mlflow.pytorch\n",
    "\n",
    "\n",
    "from prometheus_client import start_http_server, Gauge, Summary\n",
    "\n",
    "mlflow.set_tracking_uri(\"http://localhost:5000\")\n",
    "mlflow.set_experiment(\"chexpert-jupyter\")  # name your experiment\n",
    "\n",
    "train_loss_metric = Gauge(\"train_loss\", \"Training loss per epoch\")\n",
    "\n",
    "training_duration = Summary('training_duration_seconds', 'Total training time in seconds')\n"
   ]
  },
  {
   "cell_type": "code",
   "execution_count": 21,
   "id": "28a82f68",
   "metadata": {},
   "outputs": [],
   "source": [
    "#minio credentials\n",
    "\n",
    "os.environ[\"MLFLOW_TRACKING_URI\"] = \"http://localhost:5000\"\n",
    "os.environ[\"MLFLOW_S3_ENDPOINT_URL\"] = \"http://localhost:9000\"\n",
    "os.environ[\"AWS_ACCESS_KEY_ID\"] = \"minioadmin\"\n",
    "os.environ[\"AWS_SECRET_ACCESS_KEY\"] = \"minioadmin\"\n"
   ]
  },
  {
   "cell_type": "code",
   "execution_count": 13,
   "id": "004c71e5",
   "metadata": {},
   "outputs": [],
   "source": [
    "# -----------------------\n",
    "# Config\n",
    "# -----------------------\n",
    "BATCH_SIZE = 4\n",
    "EPOCHS = 5\n",
    "LEARNING_RATE = 1e-4\n",
    "NUM_CLASSES = 14\n",
    "DEVICE = torch.device(\"cuda\" if torch.cuda.is_available() else \"cpu\")\n",
    "\n",
    "TRAIN_CSV = \"sample_train.csv\"\n",
    "TEST_CSV = \"sample_test.csv\"\n",
    "IMG_ROOT = \"Chexpert-v1.0\"  # Current dir includes CheXpert-v1.0/\n",
    "\n",
    "LABELS = [\n",
    "    \"Enlarged Cardiomediastinum\", \"Cardiomegaly\", \"Lung Opacity\", \"Lung Lesion\",\n",
    "    \"Edema\", \"Consolidation\", \"Pneumonia\", \"Atelectasis\", \"Pneumothorax\",\n",
    "    \"Pleural Effusion\", \"Pleural Other\", \"Fracture\", \"Support Devices\", \"No Finding\"\n",
    "]"
   ]
  },
  {
   "cell_type": "code",
   "execution_count": 14,
   "id": "df2ff4eb",
   "metadata": {},
   "outputs": [],
   "source": [
    "# -----------------------\n",
    "# Dataset\n",
    "# -----------------------\n",
    "class CheXpertDataset(Dataset):\n",
    "    def __init__(self, csv_file, root_dir, transform=None):\n",
    "        self.df = pd.read_csv(csv_file)\n",
    "        self.root_dir = root_dir\n",
    "        self.transform = transform\n",
    "        self.df[LABELS] = self.df[LABELS].fillna(0).replace(-1, 0)\n",
    "\n",
    "    def __len__(self):\n",
    "        return len(self.df)\n",
    "\n",
    "    def __getitem__(self, idx):\n",
    "        row = self.df.iloc[idx]\n",
    "        img_path = os.path.join(self.root_dir, row[\"Path\"])\n",
    "        image = Image.open(img_path).convert(\"RGB\")\n",
    "        if self.transform:\n",
    "            image = self.transform(image)\n",
    "        labels = torch.tensor(row[LABELS].values.astype(\"float32\"))\n",
    "        return image, labels\n"
   ]
  },
  {
   "cell_type": "code",
   "execution_count": 15,
   "id": "7e4eb650",
   "metadata": {},
   "outputs": [],
   "source": [
    "# -----------------------\n",
    "# Model\n",
    "# -----------------------\n",
    "class CheXpertModel(nn.Module):\n",
    "    def __init__(self, num_classes=14):\n",
    "        super().__init__()\n",
    "        base = models.densenet121(pretrained=True)\n",
    "        in_features = base.classifier.in_features\n",
    "        base.classifier = nn.Linear(in_features, num_classes)\n",
    "        self.model = base\n",
    "\n",
    "    def forward(self, x):\n",
    "        return self.model(x)"
   ]
  },
  {
   "cell_type": "code",
   "execution_count": 16,
   "id": "9e108234",
   "metadata": {},
   "outputs": [],
   "source": [
    "# -----------------------\n",
    "# AUC Evaluation\n",
    "# -----------------------\n",
    "# def compute_auc(y_true, y_pred):\n",
    "#     try:\n",
    "#         aucs = [roc_auc_score(y_true[:, i], y_pred[:, i]) for i in range(y_true.shape[1])]\n",
    "#         return sum(aucs) / len(aucs)\n",
    "#     except Exception:\n",
    "#         return None"
   ]
  },
  {
   "cell_type": "code",
   "execution_count": 17,
   "id": "e5d0f37a",
   "metadata": {},
   "outputs": [],
   "source": [
    "# -----------------------\n",
    "# Transforms\n",
    "# -----------------------\n",
    "transform = transforms.Compose([\n",
    "    transforms.Resize((224, 224)),\n",
    "    transforms.ToTensor(),\n",
    "    transforms.Normalize([0.485, 0.456, 0.406],\n",
    "                         [0.229, 0.224, 0.225])\n",
    "])"
   ]
  },
  {
   "cell_type": "code",
   "execution_count": 18,
   "id": "6b0e7989",
   "metadata": {},
   "outputs": [],
   "source": [
    "# -----------------------\n",
    "# Load Data\n",
    "# -----------------------\n",
    "train_ds = CheXpertDataset(TRAIN_CSV, IMG_ROOT, transform)\n",
    "test_ds = CheXpertDataset(TEST_CSV, IMG_ROOT, transform)\n",
    "train_loader = DataLoader(train_ds, batch_size=BATCH_SIZE, shuffle=True)\n",
    "test_loader = DataLoader(test_ds, batch_size=BATCH_SIZE)"
   ]
  },
  {
   "cell_type": "code",
   "execution_count": 8,
   "id": "e4f5e852",
   "metadata": {},
   "outputs": [],
   "source": [
    "#prometheus"
   ]
  },
  {
   "cell_type": "code",
   "execution_count": 23,
   "id": "ee5e48bc",
   "metadata": {},
   "outputs": [
    {
     "name": "stderr",
     "output_type": "stream",
     "text": [
      "c:\\Users\\shaba\\AppData\\Local\\Programs\\Python\\Python311\\Lib\\site-packages\\torchvision\\models\\_utils.py:208: UserWarning: The parameter 'pretrained' is deprecated since 0.13 and may be removed in the future, please use 'weights' instead.\n",
      "  warnings.warn(\n",
      "c:\\Users\\shaba\\AppData\\Local\\Programs\\Python\\Python311\\Lib\\site-packages\\torchvision\\models\\_utils.py:223: UserWarning: Arguments other than a weight enum or `None` for 'weights' are deprecated since 0.13 and may be removed in the future. The current behavior is equivalent to passing `weights=DenseNet121_Weights.IMAGENET1K_V1`. You can also use `weights=DenseNet121_Weights.DEFAULT` to get the most up-to-date weights.\n",
      "  warnings.warn(msg)\n"
     ]
    },
    {
     "name": "stdout",
     "output_type": "stream",
     "text": [
      "[Epoch 1] Train Loss: 0.7224\n",
      "✅ Saved new best model at epoch 1 (Loss: 0.7224)\n",
      "[Epoch 2] Train Loss: 0.5972\n",
      "✅ Saved new best model at epoch 2 (Loss: 0.5972)\n",
      "[Epoch 3] Train Loss: 0.4800\n",
      "✅ Saved new best model at epoch 3 (Loss: 0.4800)\n",
      "[Epoch 4] Train Loss: 0.4055\n",
      "✅ Saved new best model at epoch 4 (Loss: 0.4055)\n",
      "[Epoch 5] Train Loss: 0.3480\n",
      "✅ Saved new best model at epoch 5 (Loss: 0.3480)\n"
     ]
    },
    {
     "name": "stderr",
     "output_type": "stream",
     "text": [
      "2025/05/02 14:33:32 WARNING mlflow.utils.requirements_utils: Found torch version (2.5.1+cu121) contains a local version label (+cu121). MLflow logged a pip requirement for this package as 'torch==2.5.1' without the local version label to make it installable from PyPI. To specify pip requirements containing local version labels, please use `conda_env` or `pip_requirements`.\n",
      "2025/05/02 14:33:38 WARNING mlflow.utils.requirements_utils: Found torchvision version (0.20.1+cu121) contains a local version label (+cu121). MLflow logged a pip requirement for this package as 'torchvision==0.20.1' without the local version label to make it installable from PyPI. To specify pip requirements containing local version labels, please use `conda_env` or `pip_requirements`.\n",
      "2025/05/02 14:33:38 WARNING mlflow.models.model: Model logged without a signature and input example. Please set `input_example` parameter when logging the model to auto infer the model signature.\n"
     ]
    },
    {
     "name": "stdout",
     "output_type": "stream",
     "text": [
      "🏃 View run auspicious-chimp-742 at: http://localhost:5000/#/experiments/1/runs/26c8da488ee5473ebd787fce6eda55c2\n",
      "🧪 View experiment at: http://localhost:5000/#/experiments/1\n"
     ]
    }
   ],
   "source": [
    "with training_duration.time():\n",
    "\n",
    "    with mlflow.start_run():\n",
    "\n",
    "        # 🔹 Start Prometheus server only ONCE\n",
    "        start_http_server(8001)\n",
    "\n",
    "        # 🔹 Log hyperparameters\n",
    "        mlflow.log_param(\"batch_size\", BATCH_SIZE)\n",
    "        mlflow.log_param(\"epochs\", EPOCHS)\n",
    "        mlflow.log_param(\"learning_rate\", LEARNING_RATE)\n",
    "\n",
    "        model = CheXpertModel(NUM_CLASSES).to(DEVICE)\n",
    "        optimizer = optim.Adam(model.parameters(), lr=LEARNING_RATE)\n",
    "        criterion = nn.BCEWithLogitsLoss()\n",
    "        scheduler = optim.lr_scheduler.ReduceLROnPlateau(optimizer, 'min', patience=2)\n",
    "\n",
    "        best_loss = float(\"inf\")\n",
    "        best_model_path = \"best_model.pth\"\n",
    "\n",
    "        for epoch in range(EPOCHS):\n",
    "            model.train()\n",
    "            total_loss = 0\n",
    "\n",
    "            for imgs, labels in train_loader:\n",
    "                imgs, labels = imgs.to(DEVICE), labels.to(DEVICE)\n",
    "                optimizer.zero_grad()\n",
    "                outputs = model(imgs)\n",
    "                loss = criterion(outputs, labels)\n",
    "                loss.backward()\n",
    "                optimizer.step()\n",
    "                total_loss += loss.item()\n",
    "\n",
    "            avg_loss = total_loss / len(train_loader)\n",
    "\n",
    "            # 🔹 Log to MLflow\n",
    "            print(f\"[Epoch {epoch+1}] Train Loss: {avg_loss:.4f}\")\n",
    "            mlflow.log_metric(\"train_loss\", avg_loss, step=epoch)\n",
    "\n",
    "            # 🔹 Log to Prometheus\n",
    "            train_loss_metric.set(avg_loss)\n",
    "\n",
    "            scheduler.step(avg_loss)\n",
    "\n",
    "            if avg_loss < best_loss:\n",
    "                best_loss = avg_loss\n",
    "                torch.save(model.state_dict(), best_model_path)\n",
    "                print(f\"✅ Saved new best model at epoch {epoch+1} (Loss: {avg_loss:.4f})\")\n",
    "\n",
    "        # 🔹 Log final artifacts\n",
    "        mlflow.log_artifact(best_model_path)\n",
    "        mlflow.pytorch.log_model(model, \"final_model\")\n"
   ]
  },
  {
   "cell_type": "code",
   "execution_count": 32,
   "id": "e91f94fe",
   "metadata": {},
   "outputs": [
    {
     "name": "stdout",
     "output_type": "stream",
     "text": [
      "Tracking URI: file:///c:/Users/shaba/Documents/Collage/mlops/project/MedAI-Scalable-Diagnosis-with-Machine-Learning/mlruns\n"
     ]
    }
   ],
   "source": [
    "import mlflow\n",
    "print(\"Tracking URI:\", mlflow.get_tracking_uri())\n"
   ]
  },
  {
   "cell_type": "code",
   "execution_count": 9,
   "id": "112d6e7b",
   "metadata": {},
   "outputs": [
    {
     "name": "stderr",
     "output_type": "stream",
     "text": [
      "C:\\Users\\shaba\\AppData\\Local\\Temp\\ipykernel_30112\\3007052085.py:4: FutureWarning: You are using `torch.load` with `weights_only=False` (the current default value), which uses the default pickle module implicitly. It is possible to construct malicious pickle data which will execute arbitrary code during unpickling (See https://github.com/pytorch/pytorch/blob/main/SECURITY.md#untrusted-models for more details). In a future release, the default value for `weights_only` will be flipped to `True`. This limits the functions that could be executed during unpickling. Arbitrary objects will no longer be allowed to be loaded via this mode unless they are explicitly allowlisted by the user via `torch.serialization.add_safe_globals`. We recommend you start setting `weights_only=True` for any use case where you don't have full control of the loaded file. Please open an issue on GitHub for any issues related to this experimental feature.\n",
      "  model.load_state_dict(torch.load(best_model_path))\n"
     ]
    },
    {
     "name": "stdout",
     "output_type": "stream",
     "text": [
      "\n",
      "✅ Test Accuracy (avg over all labels): 0.8286\n",
      "\n",
      "📊 Ground Truth vs Predictions (first 3 images):\n",
      "\n",
      "Image 1:\n",
      "Labels (GT):      [0, 0, 0, 0, 0, 0, 0, 0, 0, 0, 0, 0, 1, 1]\n",
      "Predictions (bin): [0, 1, 0, 0, 0, 0, 0, 0, 0, 0, 0, 0, 0, 0]\n",
      "\n",
      "Image 2:\n",
      "Labels (GT):      [1, 0, 0, 0, 0, 0, 0, 0, 0, 0, 0, 0, 1, 1]\n",
      "Predictions (bin): [0, 0, 0, 0, 0, 0, 0, 0, 0, 0, 0, 0, 0, 0]\n",
      "\n",
      "Image 3:\n",
      "Labels (GT):      [1, 0, 0, 0, 0, 0, 0, 0, 0, 0, 0, 0, 1, 1]\n",
      "Predictions (bin): [0, 1, 0, 0, 0, 0, 0, 0, 0, 0, 0, 0, 0, 0]\n",
      "\n",
      "Image 4:\n",
      "Labels (GT):      [0, 0, 0, 0, 0, 0, 0, 0, 1, 0, 0, 0, 0, 0]\n",
      "Predictions (bin): [0, 0, 0, 0, 0, 0, 0, 0, 0, 0, 0, 0, 0, 0]\n",
      "\n",
      "Image 5:\n",
      "Labels (GT):      [0, 0, 0, 0, 0, 0, 0, 0, 1, 0, 0, 0, 0, 0]\n",
      "Predictions (bin): [0, 0, 0, 0, 0, 0, 0, 0, 0, 0, 0, 0, 0, 0]\n"
     ]
    }
   ],
   "source": [
    "# -----------------------\n",
    "# Evaluation\n",
    "# -----------------------\n",
    "model.load_state_dict(torch.load(best_model_path))\n",
    "model.eval()\n",
    "\n",
    "all_preds = []\n",
    "all_labels = []\n",
    "\n",
    "with torch.no_grad():\n",
    "    for imgs, labels in test_loader:\n",
    "        imgs = imgs.to(DEVICE)\n",
    "        outputs = torch.sigmoid(model(imgs)).cpu()\n",
    "        all_preds.append(outputs)\n",
    "        all_labels.append(labels)\n",
    "\n",
    "all_preds = torch.cat(all_preds).numpy()\n",
    "all_labels = torch.cat(all_labels).numpy()\n",
    "\n",
    "# Convert probabilities to binary predictions (threshold = 0.5)\n",
    "preds_binary = (all_preds >= 0.5).astype(int)\n",
    "\n",
    "# Compute accuracy (macro across all labels)\n",
    "correct = (preds_binary == all_labels).sum()\n",
    "total = preds_binary.size\n",
    "accuracy = correct / total\n",
    "\n",
    "print(f\"\\n✅ Test Accuracy (avg over all labels): {accuracy:.4f}\")\n",
    "\n",
    "\n",
    "# Show ground truth vs prediction for a few samples\n",
    "print(\"\\n📊 Ground Truth vs Predictions (first 3 images):\")\n",
    "for i in range(min(6, len(all_preds))):\n",
    "    print(f\"\\nImage {i+1}:\")\n",
    "    print(\"Labels (GT):     \", all_labels[i].astype(int).tolist())\n",
    "    print(\"Predictions (bin):\", (all_preds[i] >= 0.5).astype(int).tolist())\n"
   ]
  },
  {
   "cell_type": "code",
   "execution_count": 11,
   "id": "060aaa8e",
   "metadata": {},
   "outputs": [],
   "source": [
    "mlflow.end_run()\n"
   ]
  }
 ],
 "metadata": {
  "kernelspec": {
   "display_name": "Python 3",
   "language": "python",
   "name": "python3"
  },
  "language_info": {
   "codemirror_mode": {
    "name": "ipython",
    "version": 3
   },
   "file_extension": ".py",
   "mimetype": "text/x-python",
   "name": "python",
   "nbconvert_exporter": "python",
   "pygments_lexer": "ipython3",
   "version": "3.11.6"
  }
 },
 "nbformat": 4,
 "nbformat_minor": 5
}
