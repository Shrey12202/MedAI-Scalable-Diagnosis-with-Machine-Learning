{
 "cells": [
  {
   "cell_type": "code",
   "execution_count": null,
   "id": "6be05010-8aeb-4398-9bd8-760ff7ae1a14",
   "metadata": {},
   "outputs": [],
   "source": [
    "import requests\n",
    "import boto3\n",
    "import os\n",
    "from urllib.parse import urlparse\n",
    "from datetime import datetime\n",
    "from collections import defaultdict"
   ]
  },
  {
   "cell_type": "code",
   "execution_count": null,
   "id": "9bafca25-6f3a-4229-b12d-a12a8e58a70b",
   "metadata": {},
   "outputs": [],
   "source": [
    "# ---- Set Environment Variables ----\n",
    "LABEL_STUDIO_URL = os.getenv(\"LABEL_STUDIO_URL\", \"http://localhost:8080\")\n",
    "LABEL_STUDIO_TOKEN = os.getenv(\"LABEL_STUDIO_USER_TOKEN\", \"your-label-studio-token\")  # set this in .env or docker\n",
    "PROJECT_ID = 1  # your Label Studio project ID\n",
    "\n",
    "\n",
    "MINIO_URL = os.getenv(\"MINIO_URL\", \"http://localhost:9000\")\n",
    "MINIO_ACCESS_KEY = os.getenv(\"MINIO_USER\", \"minioadmin\")\n",
    "MINIO_SECRET_KEY = os.getenv(\"MINIO_PASSWORD\", \"minioadmin\")\n",
    "BUCKET_NAME = \"production\""
   ]
  },
  {
   "cell_type": "code",
   "execution_count": null,
   "id": "89bc0aaf-c461-4341-8e00-8390b5bc97c7",
   "metadata": {},
   "outputs": [],
   "source": [
    "# runs inside Jupyter container on node-eval-loop\n",
    "LABEL_STUDIO_URL = os.environ['LABEL_STUDIO_URL']\n",
    "LABEL_STUDIO_TOKEN = os.environ['LABEL_STUDIO_USER_TOKEN']\n",
    "PROJECT_ID = 1  # use the first project set up in Label Studio\n",
    "\n",
    "MINIO_URL = os.environ['MINIO_URL']\n",
    "MINIO_ACCESS_KEY = os.environ['MINIO_USER']\n",
    "MINIO_SECRET_KEY = os.environ['MINIO_PASSWORD']\n",
    "BUCKET_NAME = \"production\""
   ]
  },
  {
   "cell_type": "code",
   "execution_count": null,
   "id": "e77e3bef-c44e-444e-9ef2-834f6826970b",
   "metadata": {},
   "outputs": [],
   "source": [
    "# ---- Get Label Studio annotations ----\n",
    "response = requests.get(\n",
    "    f\"{LABEL_STUDIO_URL}/api/projects/{PROJECT_ID}/export?exportType=JSON\",\n",
    "    headers={\"Authorization\": f\"Token {LABEL_STUDIO_TOKEN}\"}\n",
    ")\n",
    "\n",
    "tasks = response.json()"
   ]
  },
  {
   "cell_type": "code",
   "execution_count": null,
   "id": "a60e5b4f-e829-4e61-b4b8-4246122dada7",
   "metadata": {},
   "outputs": [],
   "source": [
    "# ---- Evaluation ----\n",
    "total = 0\n",
    "correct = 0\n",
    "mismatches = []\n",
    "\n",
    "for task in tasks:\n",
    "    try:\n",
    "        human_label = task['annotations'][0]['result'][0]['value']['choices'][0]\n",
    "        key = urlparse(task['data']['image']).path.lstrip('/')\n",
    "        if key.startswith(f\"{BUCKET_NAME}/\"):\n",
    "            key = key[len(f\"{BUCKET_NAME}/\"):]\n",
    "\n",
    "        tags = s3.get_object_tagging(Bucket=BUCKET_NAME, Key=key)['TagSet']\n",
    "        tag_dict = {t['Key']: t['Value'] for t in tags}\n",
    "        predicted_label = tag_dict.get(\"predicted_class\")\n",
    "\n",
    "        if predicted_label and human_label:\n",
    "            total += 1\n",
    "            if predicted_label == human_label:\n",
    "                correct += 1\n",
    "            else:\n",
    "                mismatches.append({\n",
    "                    \"image\": task['data']['image'],\n",
    "                    \"predicted\": predicted_label,\n",
    "                    \"actual\": human_label\n",
    "                })\n",
    "    except Exception as e:\n",
    "        print(f\"Error processing task: {e}\")\n",
    "\n",
    "accuracy = correct / total if total else 0\n",
    "print(f\"\\n🎯 Production Accuracy: {correct}/{total} = {accuracy:.2%}\")\n",
    "\n",
    "if mismatches:\n",
    "    print(\"\\n⚠️ Mismatched Predictions:\")\n",
    "    for m in mismatches:\n",
    "        print(f\"- {m['image']} | predicted: {m['predicted']} | actual: {m['actual']}\")"
   ]
  }
 ],
 "metadata": {
  "kernelspec": {
   "display_name": "Python 3 (ipykernel)",
   "language": "python",
   "name": "python3"
  },
  "language_info": {
   "codemirror_mode": {
    "name": "ipython",
    "version": 3
   },
   "file_extension": ".py",
   "mimetype": "text/x-python",
   "name": "python",
   "nbconvert_exporter": "python",
   "pygments_lexer": "ipython3",
   "version": "3.10.9"
  }
 },
 "nbformat": 4,
 "nbformat_minor": 5
}
