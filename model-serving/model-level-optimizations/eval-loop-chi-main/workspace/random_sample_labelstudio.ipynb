{
 "cells": [
  {
   "cell_type": "code",
   "execution_count": 1,
   "id": "fcf12018",
   "metadata": {},
   "outputs": [],
   "source": [
    "import boto3\n",
    "import requests\n",
    "from datetime import datetime, timedelta"
   ]
  },
  {
   "cell_type": "code",
   "execution_count": null,
   "id": "91ea9eb2",
   "metadata": {},
   "outputs": [],
   "source": [
    "\n",
    "# --- 🔧 CONFIG ---\n",
    "\n",
    "# MinIO S3 config\n",
    "MINIO_ACCESS_KEY = \"minioadmin\"\n",
    "MINIO_SECRET_KEY = \"minioadmin\"\n",
    "BUCKET_NAME = \"production\"\n"
   ]
  },
  {
   "cell_type": "code",
   "execution_count": null,
   "id": "41252656",
   "metadata": {},
   "outputs": [],
   "source": [
    "# Label Studio config\n",
    "LABEL_STUDIO_URL = \"http://129.114.27.181:8080\"  # replace with your public IP or domain\n",
    "LABEL_STUDIO_TOKEN = \"ab9927067c51ff279d340d7321e4890dc2841c4a\"\n",
    "PROJECT_ID = 1"
   ]
  },
  {
   "cell_type": "code",
   "execution_count": null,
   "id": "1514ad67",
   "metadata": {},
   "outputs": [],
   "source": [
    "\n",
    "# --- 🌐 GET PUBLIC IP OF INSTANCE (cloud only) ---\n",
    "#public_ip = requests.get(\"http://localhost/latest/meta-data/public-ipv4\").text.strip()\n",
    "public_ip = \"129.114.27.181\"  # 👈 or use your real IP like \"192.168.1.24\"\n"
   ]
  },
  {
   "cell_type": "code",
   "execution_count": 9,
   "id": "8120d21b",
   "metadata": {},
   "outputs": [],
   "source": [
    "# --- ☁️ SET UP S3 CLIENT ---\n",
    "s3 = boto3.client(\n",
    "    \"s3\",\n",
    "    endpoint_url=f\"http://{public_ip}:9000\",  # public IP for signed URLs to work in browser\n",
    "    aws_access_key_id=MINIO_ACCESS_KEY,\n",
    "    aws_secret_access_key=MINIO_SECRET_KEY,\n",
    "    region_name=\"us-east-1\"\n",
    ")"
   ]
  },
  {
   "cell_type": "code",
   "execution_count": 10,
   "id": "e5f8ec21",
   "metadata": {},
   "outputs": [],
   "source": [
    "\n",
    "# --- 📂 LIST FILES IN BUCKET ---\n",
    "response = s3.list_objects_v2(Bucket=BUCKET_NAME)\n",
    "objects = response.get(\"Contents\", [])"
   ]
  },
  {
   "cell_type": "code",
   "execution_count": 11,
   "id": "d6ac3291",
   "metadata": {},
   "outputs": [],
   "source": [
    "\n",
    "# --- 🔗 CREATE SIGNED URL TASKS FOR LABEL STUDIO ---\n",
    "signed_tasks = []\n",
    "for obj in objects:\n",
    "    key = obj[\"Key\"]\n",
    "    \n",
    "    # Create signed URL valid for 7 days\n",
    "    url = s3.generate_presigned_url(\n",
    "        ClientMethod=\"get_object\",\n",
    "        Params={\"Bucket\": BUCKET_NAME, \"Key\": key},\n",
    "        ExpiresIn=7 * 24 * 60 * 60  # 7 days\n",
    "    )\n",
    "    \n",
    "    signed_tasks.append({\n",
    "        \"data\": {\n",
    "            \"image\": url\n",
    "        }\n",
    "    })\n"
   ]
  },
  {
   "cell_type": "code",
   "execution_count": 12,
   "id": "cd4383e6",
   "metadata": {},
   "outputs": [],
   "source": [
    "# --- 📨 SEND TASKS TO LABEL STUDIO ---\n",
    "import_response = requests.post(\n",
    "    f\"{LABEL_STUDIO_URL}/api/projects/{PROJECT_ID}/import\",\n",
    "    headers={\"Authorization\": f\"Token {LABEL_STUDIO_TOKEN}\"},\n",
    "    json=signed_tasks\n",
    ")"
   ]
  },
  {
   "cell_type": "code",
   "execution_count": 13,
   "id": "d3d2995f",
   "metadata": {},
   "outputs": [
    {
     "name": "stdout",
     "output_type": "stream",
     "text": [
      "✅ Successfully uploaded 20 tasks to Label Studio project 1\n"
     ]
    }
   ],
   "source": [
    "# --- ✅ RESULT ---\n",
    "if import_response.status_code == 201:\n",
    "    print(f\"✅ Successfully uploaded {len(signed_tasks)} tasks to Label Studio project {PROJECT_ID}\")\n",
    "else:\n",
    "    print(f\"❌ Error uploading tasks:\", import_response.text)"
   ]
  }
 ],
 "metadata": {
  "kernelspec": {
   "display_name": "Python 3",
   "language": "python",
   "name": "python3"
  },
  "language_info": {
   "codemirror_mode": {
    "name": "ipython",
    "version": 3
   },
   "file_extension": ".py",
   "mimetype": "text/x-python",
   "name": "python",
   "nbconvert_exporter": "python",
   "pygments_lexer": "ipython3",
   "version": "3.11.6"
  }
 },
 "nbformat": 4,
 "nbformat_minor": 5
}
