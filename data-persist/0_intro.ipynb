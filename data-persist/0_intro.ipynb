{
 "cells": [
  {
   "cell_type": "markdown",
   "metadata": {},
   "source": [
    "# Persistent storage on Chameleon\n",
    "\n",
    "In this tutorial, we will practice using two types of persistent storage options on Chameleon:\n",
    "\n",
    "-   object storage, which you may use to e.g. store large training data sets\n",
    "-   and block storage, which you may use for persistent storage for services that run on VM instances (e.g. MLFlow, Prometheus, etc.)\n",
    "\n",
    "To run this experiment, you should have already created an account on Chameleon, and become part of a project. You should also have added your SSH key to the KVM@TACC site and the CHI@TACC site."
   ]
  },
  {
   "cell_type": "markdown",
   "metadata": {},
   "source": [
    "## Experiment resources\n",
    "\n",
    "For this experiment, we will provision\n",
    "\n",
    "-   one block storage volume on KVM@TACC\n",
    "-   one object storage bucket on CHI@TACC\n",
    "-   one virtual machine on KVM@TACC, with a floating IP, to practice using the persistent storage"
   ]
  },
  {
   "cell_type": "markdown",
   "metadata": {},
   "source": [
    "## Open this experiment on Trovi\n",
    "\n",
    "When you are ready to begin, you will continue with the next step! To begin this step, open this experiment on Trovi:\n",
    "\n",
    "-   Use this link: [Persistent storage on Chameleon](https://chameleoncloud.org/experiment/share/a1c68238-81f8-498d-8323-9d6c46cb0a78) on Trovi\n",
    "-   Then, click “Launch on Chameleon”. This will start a new Jupyter server for you, with the experiment materials already in it.\n",
    "\n",
    "You will see several notebooks inside the “data-persist-chi” directory - look for the one titled `0_intro.ipynb`. Open this notebook and continue there."
   ]
  }
 ],
 "nbformat": 4,
 "nbformat_minor": 4,
 "metadata": {
  "kernelspec": {
   "name": "python3",
   "display_name": "Python 3 (ipykernel)",
   "language": "python"
  },
  "language_info": {
   "name": "python",
   "codemirror_mode": {
    "name": "ipython",
    "version": "3"
   },
   "file_extension": ".py",
   "mimetype": "text/x-python"
  }
 }
}
