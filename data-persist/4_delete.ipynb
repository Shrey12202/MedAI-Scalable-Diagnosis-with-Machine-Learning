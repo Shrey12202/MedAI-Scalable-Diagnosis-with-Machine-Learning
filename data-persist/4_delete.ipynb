{
 "cells": [
  {
   "cell_type": "markdown",
   "metadata": {},
   "source": [
    "## Delete resources\n",
    "\n",
    "When we are finished, we must delete\n",
    "\n",
    "-   the VM server instance\n",
    "-   the block storage volume\n",
    "-   and the object store container\n",
    "\n",
    "to make the resources available to other users.\n",
    "\n",
    "We will execute the cells in this notebook inside the Chameleon Jupyter environment.\n",
    "\n",
    "Run the following cell, and make sure the correct project is selected."
   ]
  },
  {
   "cell_type": "code",
   "execution_count": null,
   "metadata": {},
   "outputs": [],
   "source": [
    "# run in Chameleon Jupyter environment\n",
    "from chi import server, context\n",
    "import chi, os, time, datetime\n",
    "\n",
    "context.version = \"1.0\" \n",
    "context.choose_project()\n",
    "context.choose_site(default=\"KVM@TACC\")"
   ]
  },
  {
   "cell_type": "markdown",
   "metadata": {},
   "source": [
    "Delete the compute instance:"
   ]
  },
  {
   "cell_type": "code",
   "execution_count": null,
   "metadata": {},
   "outputs": [],
   "source": [
    "# run in Chameleon Jupyter environment\n",
    "username = os.getenv('USER') # all exp resources will have this prefix\n",
    "s = server.get_server(f\"node-persist-{username}\")\n",
    "s.delete()"
   ]
  },
  {
   "cell_type": "markdown",
   "metadata": {},
   "source": [
    "Wait a moment for this operation to be finished before you try to delete the block storage volume - you can’t delete the volume when it is attached to a running instance."
   ]
  },
  {
   "cell_type": "markdown",
   "metadata": {},
   "source": [
    "Delete the block storage volume - in the following cell, substitute your own net ID in place of **netID**:"
   ]
  },
  {
   "cell_type": "code",
   "execution_count": null,
   "metadata": {},
   "outputs": [],
   "source": [
    "# run in Chameleon Jupyter environment\n",
    "cinder_client = chi.clients.cinder()\n",
    "volume = [v for v in cinder_client.volumes.list() if v.name=='block-persist-netID'][0] # Substitute your own net ID\n",
    "cinder_client.volumes.delete(volume = volume)"
   ]
  },
  {
   "cell_type": "markdown",
   "metadata": {},
   "source": [
    "And finally, delete the object store container at CHI@TACC. We will use the OpenStack Swift client to delete all the objects, and then the container."
   ]
  },
  {
   "cell_type": "code",
   "execution_count": null,
   "metadata": {},
   "outputs": [],
   "source": [
    "# run in Chameleon Jupyter environment\n",
    "context.choose_project()\n",
    "context.choose_site(default=\"CHI@TACC\")"
   ]
  },
  {
   "cell_type": "code",
   "execution_count": null,
   "metadata": {},
   "outputs": [],
   "source": [
    "# run in Chameleon Jupyter environment\n",
    "os_conn = chi.clients.connection()\n",
    "token = os_conn.authorize()\n",
    "storage_url = os_conn.object_store.get_endpoint()\n",
    "\n",
    "import swiftclient\n",
    "swift_conn = swiftclient.Connection(preauthurl=storage_url,\n",
    "                                    preauthtoken=token,\n",
    "                                    retries=5)"
   ]
  },
  {
   "cell_type": "markdown",
   "metadata": {},
   "source": [
    "In the following cell, replace **netID** with your own net ID:"
   ]
  },
  {
   "cell_type": "code",
   "execution_count": null,
   "metadata": {},
   "outputs": [],
   "source": [
    "# run in Chameleon Jupyter environment\n",
    "container_name = \"object-persist-netID\"\n",
    "while True:\n",
    "    _, objects = swift_conn.get_container(container_name, full_listing=True)\n",
    "    if not objects:\n",
    "        break\n",
    "    paths = \"\\n\".join(f\"{container_name}/{obj['name']}\" for obj in objects)\n",
    "    swift_conn.post_account(\n",
    "        headers={\"Content-Type\": \"text/plain\"},\n",
    "        data=paths,\n",
    "        query_string=\"bulk-delete\"\n",
    "    )\n",
    "swift_conn.delete_container(container_name)\n",
    "print(\"Container deleted.\")"
   ]
  }
 ],
 "nbformat": 4,
 "nbformat_minor": 4,
 "metadata": {
  "kernelspec": {
   "name": "python3",
   "display_name": "Python 3 (ipykernel)",
   "language": "python"
  },
  "language_info": {
   "name": "python",
   "codemirror_mode": {
    "name": "ipython",
    "version": "3"
   },
   "file_extension": ".py",
   "mimetype": "text/x-python"
  }
 }
}
