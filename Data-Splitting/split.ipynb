{
 "cells": [
  {
   "cell_type": "code",
   "execution_count": 1,
   "id": "2e8c6c96",
   "metadata": {},
   "outputs": [
    {
     "name": "stdout",
     "output_type": "stream",
     "text": [
      "✅ Validation Passed: 58086 train patients, 6454 test patients.\n",
      "✅ train.csv and test.csv saved successfully.\n"
     ]
    }
   ],
   "source": [
    "import pandas as pd\n",
    "from sklearn.model_selection import train_test_split\n",
    "\n",
    "df = pd.read_csv(\"train_cheXbert.csv\")\n",
    "\n",
    "df['patient_id'] = df['Path'].apply(lambda x: x.split('/')[2])\n",
    "\n",
    "unique_patients = df['patient_id'].unique()\n",
    "\n",
    "train_ids, test_ids = train_test_split(unique_patients, test_size=0.1, random_state=42)\n",
    "\n",
    "def get_subset(patient_ids):\n",
    "    return df[df['patient_id'].isin(patient_ids)].drop(columns=['patient_id'])\n",
    "\n",
    "train_df = get_subset(train_ids)\n",
    "test_df = get_subset(test_ids)\n",
    "\n",
    "all_used_ids = set(train_ids) | set(test_ids)\n",
    "original_ids = set(unique_patients)\n",
    "\n",
    "assert len(all_used_ids) == len(original_ids), \"❌ Some patient IDs are missing!\"\n",
    "assert len(all_used_ids) == len(set(all_used_ids)), \"❌ Duplicate patient IDs across splits!\"\n",
    "\n",
    "print(f\"✅ Validation Passed: {len(train_ids)} train patients, {len(test_ids)} test patients.\")\n",
    "\n",
    "train_df.to_csv(\"train.csv\", index=False)\n",
    "test_df.to_csv(\"test.csv\", index=False)\n",
    "\n",
    "print(\"✅ train.csv and test.csv saved successfully.\")"
   ]
  }
 ],
 "metadata": {
  "kernelspec": {
   "display_name": "Python 3",
   "language": "python",
   "name": "python3"
  },
  "language_info": {
   "codemirror_mode": {
    "name": "ipython",
    "version": 3
   },
   "file_extension": ".py",
   "mimetype": "text/x-python",
   "name": "python",
   "nbconvert_exporter": "python",
   "pygments_lexer": "ipython3",
   "version": "3.9.6"
  }
 },
 "nbformat": 4,
 "nbformat_minor": 5
}
