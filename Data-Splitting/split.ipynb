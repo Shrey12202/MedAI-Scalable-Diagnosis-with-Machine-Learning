{
 "cells": [
  {
   "cell_type": "code",
   "execution_count": 1,
   "id": "2e8c6c96",
   "metadata": {},
   "outputs": [
    {
     "name": "stdout",
     "output_type": "stream",
     "text": [
      "✅ Validation Passed: 64540 patient IDs correctly split.\n",
      "✅ CSV splits saved successfully\n"
     ]
    }
   ],
   "source": [
    "import pandas as pd\n",
    "from sklearn.model_selection import train_test_split\n",
    "\n",
    "# Load dataset\n",
    "df = pd.read_csv(\"train_cheXbert.csv\")\n",
    "\n",
    "# Extract patient ID correctly\n",
    "df['patient_id'] = df['Path'].apply(lambda x: x.split('/')[2])\n",
    "\n",
    "# Get unique patient IDs\n",
    "unique_patients = df['patient_id'].unique()\n",
    "\n",
    "# Split into 70% train and 30% temp\n",
    "train_ids, temp_ids = train_test_split(unique_patients, test_size=0.3, random_state=42)\n",
    "\n",
    "# Now split temp into 3 equal parts: test1, sim1, sim2\n",
    "test1_ids, temp_remaining = train_test_split(temp_ids, test_size=2/3, random_state=42)\n",
    "sim1_ids, sim2_ids = train_test_split(temp_remaining, test_size=0.5, random_state=42)\n",
    "\n",
    "# Helper function\n",
    "def get_subset(patient_ids):\n",
    "    return df[df['patient_id'].isin(patient_ids)].drop(columns=['patient_id'])\n",
    "\n",
    "# Generate subsets\n",
    "train_df = get_subset(train_ids)\n",
    "test1_df = get_subset(test1_ids)\n",
    "sim1_df = get_subset(sim1_ids)\n",
    "sim2_df = get_subset(sim2_ids)\n",
    "\n",
    "# Validation checks\n",
    "all_used_ids = set(train_ids) | set(test1_ids) | set(sim1_ids) | set(sim2_ids)\n",
    "original_ids = set(unique_patients)\n",
    "\n",
    "assert len(all_used_ids) == len(original_ids), \"❌ Some patient IDs are missing!\"\n",
    "assert len(all_used_ids) == len(set(all_used_ids)), \"❌ Duplicate patient IDs across splits!\"\n",
    "\n",
    "print(f\"✅ Validation Passed: {len(original_ids)} patient IDs correctly split.\")\n",
    "\n",
    "# Save to CSV\n",
    "train_df.to_csv(\"train.csv\", index=False)\n",
    "test1_df.to_csv(\"test1.csv\", index=False)\n",
    "sim1_df.to_csv(\"sim1.csv\", index=False)\n",
    "sim2_df.to_csv(\"sim2.csv\", index=False)\n",
    "\n",
    "print(\"✅ CSV splits saved successfully\")\n"
   ]
  }
 ],
 "metadata": {
  "kernelspec": {
   "display_name": "Python 3",
   "language": "python",
   "name": "python3"
  },
  "language_info": {
   "codemirror_mode": {
    "name": "ipython",
    "version": 3
   },
   "file_extension": ".py",
   "mimetype": "text/x-python",
   "name": "python",
   "nbconvert_exporter": "python",
   "pygments_lexer": "ipython3",
   "version": "3.9.6"
  }
 },
 "nbformat": 4,
 "nbformat_minor": 5
}
